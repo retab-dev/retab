{
 "cells": [
  {
   "cell_type": "markdown",
   "id": "9b093efe",
   "metadata": {},
   "source": [
    "# **BUILD A RAG PIPELINE USING ZERO ENTROPY** & **RETAB**"
   ]
  },
  {
   "cell_type": "markdown",
   "id": "e3099cf1",
   "metadata": {},
   "source": [
    "[ZeroEntropy](https://www.zeroentropy.dev/) offers an advanced AI-powered document retrieval pipeline that enables you to seamlessly index, search, and retrieve documents with exceptional precision.\n",
    "\n",
    "_Agentic Retrieval refers to a retrieval system that actively determines the optimal strategy to find information based on the context of a query. Unlike traditional systems, it mimics human reasoning by selecting techniques dynamically, improving its approach over time through feedback and learning._\n",
    "\n",
    "**More information on ZeroEntropy [here](https://www.zeroentropy.dev/).**"
   ]
  },
  {
   "cell_type": "code",
   "execution_count": 1,
   "id": "1265b914",
   "metadata": {},
   "outputs": [],
   "source": [
    "# %pip install retab\n",
    "# %pip install zeroentropy"
   ]
  },
  {
   "cell_type": "markdown",
   "id": "3415f925",
   "metadata": {},
   "source": [
    "### **UPLOAD**"
   ]
  },
  {
   "cell_type": "code",
   "execution_count": null,
   "id": "35ad7a22",
   "metadata": {},
   "outputs": [],
   "source": [
    "import base64\n",
    "from datetime import datetime\n",
    "from zeroentropy import ZeroEntropy\n",
    "\n",
    "zclient = ZeroEntropy()\n",
    "\n",
    "document_path = \"../assets/docs/Americas-AI-Action-Plan.pdf\"\n",
    "\n",
    "# Read local PDF in binary mode\n",
    "with open(document_path, \"rb\") as f:\n",
    "    file_content = f.read()\n",
    "\n",
    "base64_content = base64.b64encode(file_content).decode('utf-8')\n",
    "\n",
    "response = zclient.documents.add(\n",
    "    collection_name=\"pdfs\",\n",
    "    path=\"docs/document.pdf\",  # You can make this dynamic if needed\n",
    "    content={\n",
    "        \"type\": \"auto\",\n",
    "        \"base64_data\": base64_content,\n",
    "    },\n",
    "    metadata={\n",
    "        \"timestamp\": datetime.now().isoformat(),\n",
    "        \"list:tags\": [\"Trump\", \"AI Action Plan\"],\n",
    "    }\n",
    ")\n",
    "print(response.message)"
   ]
  },
  {
   "cell_type": "markdown",
   "id": "c757a7cd",
   "metadata": {},
   "source": [
    "### **QUERY**"
   ]
  },
  {
   "cell_type": "code",
   "execution_count": 3,
   "id": "10528ab6",
   "metadata": {},
   "outputs": [
    {
     "name": "stdout",
     "output_type": "stream",
     "text": [
      "[Result(file_url='https://api.zeroentropy.dev/v1/documents/get-document?token=IzwvoeRd5cjOgU08TBuSnnGuq35RlLSQzgg2OHI4H1gVs4vcm0D_-0tS0sBw0YHDMYQUrPmzt_wDah1bXhSJbw_yFBhN_mNXJcQ1-c90yWui_zvRhOrQcuTgs8_u6betqd9j0AmWIWMizNIon0GDQsTDxrBIoS-9aosYHwftyOXjuFNHDAgyN-xFg5E2Sq3Q4z3VJ_jxms552ADy-ol4ckV_hfeDjyH07wm3FBdWOn9ZRHdBPukVgh9lerzWTYoR', metadata=None, path='docs/document.pdf', score=2.398141113209031)]\n"
     ]
    }
   ],
   "source": [
    "# Query for top k documents\n",
    "\n",
    "response = zclient.queries.top_documents(\n",
    "    collection_name=\"pdfs\",\n",
    "    query=\"What are the main pillars of America's AI Action Plan?\",\n",
    "    k=1,\n",
    ")\n",
    "\n",
    "print(response.results)"
   ]
  },
  {
   "cell_type": "code",
   "execution_count": 4,
   "id": "9b9e4381",
   "metadata": {},
   "outputs": [
    {
     "name": "stdout",
     "output_type": "stream",
     "text": [
      "[Result(content=\"OFFICE\\n\\nTHE WHITE HOUSE\\n\\nOF THE\\n\\nPRESIDENT\\n\\nE PLURIBUS\\n\\nOFFICE\\n\\nOF\\n\\nSCIENCE\\n\\nUNUM\\n\\nAND TECHNOLOGY\\n\\nPOLICY\\n\\nOF THE\\n\\nUNITED\\n\\nWinning the Race\\nAMERICA'S\\nAI ACTION PLAN\\n\\nJULY 2025\\n\", image_url='https://api.zeroentropy.dev/v1/documents/get-page-image?token=Ih1zkqHGCZabMTP1fPKGfLCZO3GyyNyspCp9GKTt-YNSHpckKVM8TS9NE_3XIvgJp4AX806OeQ1oX6KfTEJorCvyTGoqeHS4yHubiRO1BqHSJYtQ_C0pCcobxkwE8eo0FrXYoPRANTxLm0x7dm0ii8QnoRgKM3dbplEZd38aExvjkStsdBInGK06hm22axzXS8FBYEoWIpWCF4X8utffnIw9qC_hbLBBjGxSVyZJ4opNB0niVIMEFmwpE7uGGsNZn6nD0XHVe_9KKG0B77ANJcPxwjKrON03gQn4PF2YWhBpFOTDi44WywQdLTBcgg0w', page_index=0, path='docs/document.pdf', score=1.543041346744185)]\n"
     ]
    }
   ],
   "source": [
    "# Query for top k pages\n",
    "\n",
    "response = zclient.queries.top_pages(\n",
    "    collection_name=\"pdfs\",\n",
    "    query=\"What are the main pillars of America's AI Action Plan?\",\n",
    "    k=1,\n",
    "    include_content=True,\n",
    ")\n",
    "print(response.results)"
   ]
  },
  {
   "cell_type": "code",
   "execution_count": 5,
   "id": "082dbc4e",
   "metadata": {},
   "outputs": [
    {
     "name": "stdout",
     "output_type": "stream",
     "text": [
      "[Result(content=\"2\\nAMERICA'S AI ACTION PLAN\\n\\nPillar I: Accelerate Al Innovation\\n\\nAI\\n\\nAmerica must have the most powerful Al systems in the world, but we must also lead the world\\nin creative and transformative application of these systems.\", end_index=8002, page_span=[4, 6], path='docs/document.pdf', score=0.8611650064526928, start_index=7781)]\n"
     ]
    }
   ],
   "source": [
    "#Query for top k snippets with metadata filtering\n",
    "\n",
    "response = zclient.queries.top_snippets(\n",
    "    collection_name=\"pdfs\",\n",
    "    query=\"What are the main pillars of America's AI Action Plan?\",\n",
    "    k=1,\n",
    "    filter={\n",
    "        \"list:tags\": {\n",
    "            \"$in\": [\"Trump\"]\n",
    "        }\n",
    "    },\n",
    "    precise_responses=True,\n",
    "    reranker=\"zerank-1\", # Use our Reranker as a post-processing step\n",
    ")\n",
    "\n",
    "print(response.results)"
   ]
  },
  {
   "cell_type": "code",
   "execution_count": null,
   "id": "1c099e82",
   "metadata": {},
   "outputs": [],
   "source": []
  }
 ],
 "metadata": {
  "kernelspec": {
   "display_name": "cube",
   "language": "python",
   "name": "python3"
  },
  "language_info": {
   "codemirror_mode": {
    "name": "ipython",
    "version": 3
   },
   "file_extension": ".py",
   "mimetype": "text/x-python",
   "name": "python",
   "nbconvert_exporter": "python",
   "pygments_lexer": "ipython3",
   "version": "3.13.2"
  }
 },
 "nbformat": 4,
 "nbformat_minor": 5
}
