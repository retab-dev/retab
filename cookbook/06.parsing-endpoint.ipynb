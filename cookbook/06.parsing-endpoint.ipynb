{
 "cells": [
  {
   "cell_type": "code",
   "execution_count": 1,
   "id": "1265b914",
   "metadata": {},
   "outputs": [],
   "source": [
    "# %pip install retab"
   ]
  },
  {
   "cell_type": "markdown",
   "id": "a0edcb56",
   "metadata": {},
   "source": [
    "The `parse` method in Retab’s document processing pipeline **converts any document into cleaned, raw markdown text with page-by-page extraction**. \n",
    "\n",
    "This endpoint is ideal for extracting cleaned document content to be used as context for downstream processing, such as RAG pipelines, custom ingestion pipelines, embeddings classification, and content indexing workflows.\n",
    "\n",
    "**For more information on retab's `parse` method, check our [documentation](https://docs.retab.com/core-concepts/Parsing#parsing).**"
   ]
  },
  {
   "cell_type": "code",
   "execution_count": null,
   "id": "35ad7a22",
   "metadata": {},
   "outputs": [
    {
     "name": "stdout",
     "output_type": "stream",
     "text": [
      "{\n",
      "  \"document\": {\n",
      "    \"filename\": \"invoice.jpeg\",\n",
      "    \"url\": \"data:image/jpeg;base64,/9j/4AAQSkZJRgABAQAAAQABAAD/2wBDAAgGBgcGBQgHBwcJCQgKDBQNDAsLDBkSEw8UHRofHh0aHBwgJC4nICIsIxwcKDcpLDAxNDQ0Hyc5PTgyPC4zNDL/2wBDAQgJCQwLDBgNDRgyIRwhMjIyMjIyMjIyMjIyMjIyMjIyMjIyMjIyMjIyMjIyMjIyMjIyMjIyMjIyMjIyMjIyMjL/wAARCAlKBpEDASIAAhEBAxEB/8QAHwAAAQUBAQEBAQEAAAAAAAAAAAECAwQFBgcICQoL/8QAtRAAAgEDAwIEAwUFBAQAAAF9AQIDAAQRBRIhMUEGE1FhByJxFDKBkaEII0KxwRVS0fAkM2JyggkKFhcYGRolJicoKSo0NTY3ODk6Q0RFRkdISUpTVFVWV1hZWmNkZWZnaGlqc3R1dnd4eXqDhIWGh4iJipKTlJWWl5iZmqKjpKWmp6ipqrKztLW2t7i5usLDxMXGx8jJytLT1NXW19jZ2uHi4+Tl5ufo6erx8vP09fb3+Pn6/8QAHwEAAwEBAQEBAQEBAQAAAAAAAAECAwQFBgcICQoL/8QAtREAAgECBAQDBAcFBAQAAQJ3AAECAxEEBSExBhJBUQdhcRMiMoEIFEKRobHBCSMzUvAVYnLRChYkNOEl8RcYGRomJygpKjU2Nzg5OkNERUZHSElKU1RVVldYWVpjZGVmZ2hpanN0dXZ3eHl6goOEhYaHiImKkpOUlZaXmJmaoqOkpaanqKmqsrO0tba3uLm6wsPExcbHyMnK0tPU1dbX2Nna4uPk5ebn6Onq8vP09fb3+Pn6/9oADAMBAAIRAxEAPwD3+iiigAooooAKKKKACiiigAooooAKKKKACiiigAooooAKKKKACiiigAooooAKKKKACiiigAooooAKKKKACiiigAooooAKKKKACiiigAooooAKKKKACiiigAooooAKKKKACiiigAooooAKKKKA\"\n",
      "  },\n",
      "  \"usage\": {\n",
      "    \"page_count\": 1,\n",
      "    \"credits\": 1.0\n",
      "  },\n",
      "  \"pages\": [\n",
      "    \"# AMS AMNOSH SUPPLIERS\\n\\n9291 Proin Road\\nLake Charles, ME-11292\\n\\n## Invoice\\n\\n| Date         | Invoice# |\\n| :----------- | :------- |\\n| 11/24/2021   | 1437     |\\n\\n### Bill To\\n\\nJohnson Carrie\\nAbcxyz Traders\\n45 Lightning Road,\\nArizona, AZ 88776\\n\\n### Ship To\\n\\nJohnny Patel\\nAbcxyz Traders\\n45 Lightning Road,\\nArizona, AZ 88776\\n\\n| E-mail Address        | Contact Number | Terms | P.O. Number | Status |\\n| :-------------------- | :------------- | :---- | :---------- | :----- |\\n| proprietor@abcxyz.com | 321-321-1234   |       |             |        |\\n\\n| Quantity | Description                             | Price Each | Amount    |\\n| :------- | :-------------------------------------- | :--------- | :-------- |\\n| 3        | Drag Series Transmission Build - A WD DSM | 1,129.03   | 3,387.09  |\\n| 2        | Drive Shaft Automatic Right             | 243.01     | 486.02    |\\n| 4        | MIZOL 20W40 Engine Oil                  | 342.00     | 1,368.00  |\\n| 3        | Spirax W2 ATF                           | 54.50      | 163.50    |\\n| 1        | Hydraulllic Press-25 Tons               | 6,391.85   | 6,391.85  |\\n| 2        | Optional: Slotter Machine               | 45.67      | 91.34     |\\n\\n|                 |             |\\n| :-------------- | :---------- |\\n| Subtotal        | $11,887.80  |\\n| Sales Tax (1.9%) | $225.87   |\\n| **Total**       | **$12,113.67** |\\n| Payments / Credits | -$12,045.66 |\\n| **Balance Due** | **$68.01** |\\n\\n| Phone#       | E-mail                    | Web Site                      |\\n| :----------- | :------------------------ | :---------------------------- |\\n| 123-456-7890 | sales@amnoshsuppliers.com | www.amnoshsuppliers.com       |\\n\\nEstimates may be revised up to 20% without express permission. Returned parts may be subject to a 20% restocking fee. Used parts and electronics are sold AS-IS. Warranty agreement must be signed and returned within 30 days to activate warranty. http://www.amnoshsuppliers.com/pages/faq\\n\\nFB: amnoshsuppliers\\nTwitter:@amnoshsuppliers\"\n",
      "  ],\n",
      "  \"text\": \"# AMS AMNOSH SUPPLIERS\\n\\n9291 Proin Road\\nLake Charles, ME-11292\\n\\n## Invoice\\n\\n| Date         | Invoice# |\\n| :----------- | :------- |\\n| 11/24/2021   | 1437     |\\n\\n### Bill To\\n\\nJohnson Carrie\\nAbcxyz Traders\\n45 Lightning Road,\\nArizona, AZ 88776\\n\\n### Ship To\\n\\nJohnny Patel\\nAbcxyz Traders\\n45 Lightning Road,\\nArizona, AZ 88776\\n\\n| E-mail Address        | Contact Number | Terms | P.O. Number | Status |\\n| :-------------------- | :------------- | :---- | :---------- | :----- |\\n| proprietor@abcxyz.com | 321-321-1234   |       |             |        |\\n\\n| Quantity | Description                             | Price Each | Amount    |\\n| :------- | :-------------------------------------- | :--------- | :-------- |\\n| 3        | Drag Series Transmission Build - A WD DSM | 1,129.03   | 3,387.09  |\\n| 2        | Drive Shaft Automatic Right             | 243.01     | 486.02    |\\n| 4        | MIZOL 20W40 Engine Oil                  | 342.00     | 1,368.00  |\\n| 3        | Spirax W2 ATF                           | 54.50      | 163.50    |\\n| 1        | Hydraulllic Press-25 Tons               | 6,391.85   | 6,391.85  |\\n| 2        | Optional: Slotter Machine               | 45.67      | 91.34     |\\n\\n|                 |             |\\n| :-------------- | :---------- |\\n| Subtotal        | $11,887.80  |\\n| Sales Tax (1.9%) | $225.87   |\\n| **Total**       | **$12,113.67** |\\n| Payments / Credits | -$12,045.66 |\\n| **Balance Due** | **$68.01** |\\n\\n| Phone#       | E-mail                    | Web Site                      |\\n| :----------- | :------------------------ | :---------------------------- |\\n| 123-456-7890 | sales@amnoshsuppliers.com | www.amnoshsuppliers.com       |\\n\\nEstimates may be revised up to 20% without express permission. Returned parts may be subject to a 20% restocking fee. Used parts and electronics are sold AS-IS. Warranty agreement must be signed and returned within 30 days to activate warranty. http://www.amnoshsuppliers.com/pages/faq\\n\\nFB: amnoshsuppliers\\nTwitter:@amnoshsuppliers\"\n",
      "}\n"
     ]
    }
   ],
   "source": [
    "# Parse a Document\n",
    "\n",
    "from dotenv import load_dotenv\n",
    "from retab import Retab\n",
    "\n",
    "load_dotenv() # You need to create a .env file containing your RETAB_API_KEY=sk_retab_***\n",
    "\n",
    "client = Retab()\n",
    "\n",
    "# Parse the document\n",
    "response = client.documents.parse(\n",
    "    document=\"../assets/docs/invoice.jpeg\",\n",
    "    model=\"gemini-2.5-flash\",\n",
    "    table_parsing_format=\"markdown\",  # Better for RAG\n",
    "    image_resolution_dpi=128          # Higher quality for technical docs\n",
    ")\n",
    "\n",
    "print(response.model_dump_json(indent=2))"
   ]
  },
  {
   "cell_type": "markdown",
   "id": "1ee00075",
   "metadata": {},
   "source": [
    "## **Best Practices**\n",
    "\n",
    "### **Model Selection**\n",
    "* `gemini-2.5-pro`: Most accurate and robust model, recommended for complex or high-stakes document parsing tasks.\n",
    "* `gemini-2.5-flash`: Best for speed and cost-effectiveness, suitable for most general-purpose documents.\n",
    "* `gemini-2.5-flash-lite`: Fastest and most cost-efficient, ideal for simple documents or high-volume batch processing where maximum throughput is needed.\n",
    "​\n",
    "### **Image Quality Settings**\n",
    "* Standard documents: `72-96 DPI`\n",
    "* Technical documents: `150 DPI`\n",
    "* Fine print/small text: `300+ DPI`"
   ]
  },
  {
   "cell_type": "code",
   "execution_count": null,
   "id": "3c4e088a",
   "metadata": {},
   "outputs": [],
   "source": []
  }
 ],
 "metadata": {
  "kernelspec": {
   "display_name": "cube",
   "language": "python",
   "name": "python3"
  },
  "language_info": {
   "codemirror_mode": {
    "name": "ipython",
    "version": 3
   },
   "file_extension": ".py",
   "mimetype": "text/x-python",
   "name": "python",
   "nbconvert_exporter": "python",
   "pygments_lexer": "ipython3",
   "version": "3.13.2"
  }
 },
 "nbformat": 4,
 "nbformat_minor": 5
}
