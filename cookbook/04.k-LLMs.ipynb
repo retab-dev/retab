{
 "cells": [
  {
   "cell_type": "code",
   "execution_count": 1,
   "id": "1265b914",
   "metadata": {},
   "outputs": [],
   "source": [
    "# %pip install k-llms"
   ]
  },
  {
   "cell_type": "markdown",
   "id": "3865096e",
   "metadata": {},
   "source": [
    "Retab's `k-LLMs` library is a library dedicated to the `n_consensus` parameter in retab's SDK.\n",
    "\n",
    "**CONCEPT**—Large language models are **non-deterministic**—the same prompt can return different answers each time. **Consensus reduces this variability** by sending the prompt through K independent model calls and merging their JSON outputs into one result.\n",
    "\n",
    "**CONTEXT**—Our approach follows similar principles to **[Palantir’s “K-LLMs” methodology](https://www.linkedin.com/posts/palantir-technologies_never-use-1-llm-when-you-can-use-k-llms-activity-7109622372021780480-eMPG/)**, where multiple models evaluate the same prompt and their outputs are synthesized for increased accuracy, confidence, and reduced hallucinations.\n",
    "\n",
    "**SOLUTION**—We provide a quick, type‑safe wrapper around **OpenAI Chat Completions and Responses** endpoints with automatic consensus reconciliation.\n",
    "\n",
    "**For more information on k-LLMs Consensus, check our [documentation](https://docs.retab.com/core-concepts/k-LLMs_Consensus).**"
   ]
  },
  {
   "cell_type": "code",
   "execution_count": null,
   "id": "5a5f040c",
   "metadata": {},
   "outputs": [],
   "source": [
    "# Parse the document with Retab\n",
    "from dotenv import load_dotenv\n",
    "from retab import Retab\n",
    "\n",
    "load_dotenv() # You need to create a .env file containing your OPENAI_API_KEY=sk-***\n",
    "\n",
    "reclient = Retab()\n",
    "\n",
    "parsed_invoice = reclient.documents.parse(\n",
    "    document=\"../assets/docs/invoice.jpeg\",\n",
    "    model=\"gemini-2.5-flash\",\n",
    "    table_parsing_format=\"markdown\",  # Better for RAG\n",
    "    image_resolution_dpi=128          # Higher quality for technical docs\n",
    ")"
   ]
  },
  {
   "cell_type": "code",
   "execution_count": 3,
   "id": "8004925e",
   "metadata": {},
   "outputs": [
    {
     "name": "stdout",
     "output_type": "stream",
     "text": [
      "Consensus output: status='Balance Due' total='$68.01'\n",
      "Likelihoods: {'status': 0.92857, 'total': 0.8}\n",
      "Choice 0: status='Balance Due' total='$68.01'\n",
      "Choice 1: status='Balance Due' total='$68.01'\n",
      "Choice 2: status='Balance Due' total='$68.01'\n",
      "Choice 3: status='Balance Due: $68.01' total='$12,113.67'\n",
      "Choice 4: status='Balance Due' total='$68.01'\n",
      "Choice 5: status='Balance Due' total='$68.01'\n"
     ]
    }
   ],
   "source": [
    "# Use the k-LLMs library to gain accuracy\n",
    "\n",
    "from k_llms import KLLMs\n",
    "from pydantic import BaseModel\n",
    "\n",
    "client = KLLMs()\n",
    "\n",
    "class Invoice(BaseModel):\n",
    "    status: str\n",
    "    total: str\n",
    "\n",
    "completion = client.chat.completions.parse(\n",
    "    model=\"gpt-4.1\",\n",
    "    messages=[\n",
    "        {\"role\": \"system\", \"content\": \"Extract the event information.\"},\n",
    "        {\"role\": \"user\", \"content\": parsed_invoice.pages[0]},\n",
    "    ],\n",
    "    response_format=Invoice,\n",
    "    temperature=0.9,\n",
    "    n=5\n",
    ")\n",
    "\n",
    "print(\"Consensus output:\", completion.choices[0].message.parsed)\n",
    "print(\"Likelihoods:\", completion.likelihoods)\n",
    "\n",
    "for i in range(len(completion.choices)):\n",
    "    print(f\"Choice {i}: {completion.choices[i].message.parsed}\")"
   ]
  },
  {
   "cell_type": "markdown",
   "id": "a278248b",
   "metadata": {},
   "source": [
    "We increased the `temperature` on purpose to see how consensus helps us spot inconsistencies on specific field.\n",
    "\n",
    "These inconstitencies can be tackled by addind `Reasoning` to the Field, as shown in our **03.reasoning-prompt.ipynb*** Notebook for example.\n",
    "\n",
    "**For more information on `Reasoning`, check our [documentation](https://docs.retab.com/core-concepts/Reasoning).**"
   ]
  },
  {
   "cell_type": "code",
   "execution_count": null,
   "id": "c4fe06af",
   "metadata": {},
   "outputs": [],
   "source": []
  }
 ],
 "metadata": {
  "kernelspec": {
   "display_name": "cube",
   "language": "python",
   "name": "python3"
  },
  "language_info": {
   "codemirror_mode": {
    "name": "ipython",
    "version": 3
   },
   "file_extension": ".py",
   "mimetype": "text/x-python",
   "name": "python",
   "nbconvert_exporter": "python",
   "pygments_lexer": "ipython3",
   "version": "3.13.2"
  }
 },
 "nbformat": 4,
 "nbformat_minor": 5
}
