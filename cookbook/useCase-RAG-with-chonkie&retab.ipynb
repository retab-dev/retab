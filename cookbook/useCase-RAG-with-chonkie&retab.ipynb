{
 "cells": [
  {
   "cell_type": "markdown",
   "id": "9b093efe",
   "metadata": {},
   "source": [
    "# **BUILD A RAG PIPELINE USING CHONKIE CHUNKER** & **RETAB**"
   ]
  },
  {
   "cell_type": "markdown",
   "id": "e3099cf1",
   "metadata": {},
   "source": [
    "[Chonkie](https://chonkie.ai/) is a powerful and flexible text chunking library designed specifically for RAG pipelines.\n",
    "\n",
    "_Chunking consists in splitting the text into manageable blocks (sentences, paragraphs, etc..) called “chunks” for embedding_\n",
    "\n",
    "**More information on Chonkie [here](https://chonkie.ai/).**"
   ]
  },
  {
   "cell_type": "code",
   "execution_count": 1,
   "id": "1265b914",
   "metadata": {},
   "outputs": [],
   "source": [
    "# %pip install retab\n",
    "# %pip install chonkie"
   ]
  },
  {
   "cell_type": "code",
   "execution_count": 2,
   "id": "35ad7a22",
   "metadata": {},
   "outputs": [
    {
     "name": "stdout",
     "output_type": "stream",
     "text": [
      "document=BaseMIMEData(filename='ETF-facts.pdf', url='data:application/pdf;base64,JVBERi0xLjMKJbrfrOAKMy...', content='JVBERi0xLjMKJbrfrOAKMyAwIG9iago8PC9UeXBlIC9QYWdlCi...', mime_type='application/pdf', extension='pdf') usage=RetabUsage(page_count=3, credits=3.0) pages=[\"SERIES B • CDN$ • ISC • AS AT JULY 09, 2025\\n\\n## FUND CODE\\nISC\\n7882\\n\\n# Fidelity All-American Equity ETF Fund\\n\\n## KEY FACTS\\nSeries Inception **June 03, 2025**\\nNAV **$10.25**\\nBenchmark **S&P 500 Index**\\nFund aggregate assets\\n(all series) as at\\nDistributions **Annually**\\nAlso available through **ETF CDN$**\\n\\n### Risk classification\\n[Figure: Risk classification bar showing categories: Low, Low to Medium, Medium, Medium to High, High]\\n\\n## PORTFOLIO MANAGERS\\n\\nManaged by Geode - Geode Capital Management is a global systematic investment manager. With a robust infrastructure and talented investment professionals, Geode offers clients the scale of a large asset management firm, with the benefits of a versatile investment platform - flexibility and customization. Geode is able to offer institutional investors the essential building blocks for today's changing investment landscape.\\n\\nAs at March 31, 2025, Geode manages over $1.5 trillion.\\n\\nStart date June 3, 2025\\n\\n[Figure: Geode Capital Management logo]\\n\\n## Why invest in this fund?\\n\\n*   A core portfolio holding offering the potential for capital appreciation.\\n*   Focused regional equity exposure.\\n*   Annual portfolio rebalancing.\\n*   Potential to outperform traditional passive strategies.\\n\\n## Price\\n\\n### Historical prices from June 3, 2025 to July 9, 2025\\n\\n|             |           |\\n| :---------- | :-------- |\\n| Start price | $10.0000  |\\n| End price   | $10.2524  |\\n| Total distributions | $0.0000   |\\n\\n[Figure: Line graph showing historical price movement from June 3, 2025, to July 9, 2025, with price points at $9.80, $9.90, $10.00, $10.10, $10.20, $10.30. Key dates on X-axis: 9. Jun, 16. Jun, 23. Jun, 30. Jun, 7. Jul. The graph highlights $10.2524 around July 7.]\\n\\n72636-v2025328\", \"SERIES B • CDN$ • ISC • AS AT JULY 09, 2025\\n\\n# Fidelity All-American Equity ETF Fund\\n\\n## Allocation\\n\\n### As at May 31, 2025\\n\\n| Allocation to Underlying Funds (%) |                |\\n| :--------------------------------- | :------------- |\\n| 100.0%                             | U.S. Equities |\\n| 0.0%                               | Money Market/Cash Other Assets |\\n\\n### Geographical Mix\\n\\n[Figure: Geographical Mix pie chart]\\n\\n- 98.5% United States\\n- 1.6% Ireland\\n- 0.0% Other Countries\\n- 0.0% Cash & Net Other Assets\\n\\n### Sector Mix\\n\\n[Figure: Sector Mix pie chart]\\n\\n- 26.4% Information Technology\\n- 15.8% Industrials\\n- 14.4% Financials\\n- 7.3% Consumer Disc.\\n- 6.9% Real Estate\\n- 6.4% Consumer Staples\\n- 6.3% Health Care\\n- 4.8% Materials\\n- 4.7% Utilities\\n- 4.2% Energy\\n- 2.5% Communication Services\\n- 0.2% Multi Sector\\n\\n## Footnotes and disclosures\\n\\n* The management fees directly payable by the Fidelity All-Equity ETFs are nil. The Fidelity All-Equity ETFs invest in other underlying Fidelity ETFs that charge a direct management fee and/or administration fee. Based on the weightings of underlying Fidelity ETFs, it is expected that the effective indirect management fee for Fidelity All-Canadian Equity ETF will be approximately 0.35%, Fidelity All-American Equity ETF 0.35%, and Fidelity All-International Equity ETF 0.45%. The actual effective, indirect fees may be higher or lower than the estimated rates shown above based on the performance of the underlying Fidelity ETFs, rebalancing events initiated by the portfolio management team of the Fidelity All-Equity ETFs and changes to the strategic allocation, which may include the removal or addition of underlying Fidelity ETFs. Actual indirect fees will be reflected in the MER (in addition to sales tax, fixed admin fees, commissions, portfolio transaction costs and other expenses, as applicable, of each of the Fidelity All-Equity ETFs and mutual fund versions), posted semi-annually.\\n\\nCommissions, trailing commissions, management fees, brokerage fees and expenses may be associated with investments in mutual funds and ETFs. Please read the mutual fund or ETF's prospectus, which contains detailed investment information, before investing. The indicated rates of return are historical annual compounded total returns for the period indicated, including changes in unit value and reinvestment distributions, and do not take into account any charges or income taxes payable by any security holder that would have reduced returns. Mutual funds and ETFs are not guaranteed. Their values change frequently. Past performance may not be repeated.\\n\\nA return of capital reduces an investor's adjusted cost base. Capital gains taxes are deferred until units are sold or until the ACB goes below zero. Investors should not confuse this cash flow distribution with a fund's rate of return or yield. While investors in Fidelity's tax-efficient series (Tax-Smart CashFlow) will be able to defer some personal capital gains, they must still pay tax on capital gains distributions that arise from the sale of individual holdings by fund managers, and on interest and dividend distributions. Tax-Smart CashFlow will also pay a year-end distribution that must be reinvested in additional securities of the applicable fund. The monthly cash-flow distributions on Tax-Smart CashFlow are not guaranteed, will be adjusted from time to time and may include income.\\n\\nThe charting tool is for illustrative purposes only and it does not provide financial, legal, tax or investment advice. Particular investment, tax, or trading strategies should be evaluated relative to each individual's objectives and risk tolerance.\\n\\nMonth-end asset mixes may total greater than / less than 100% due to differences in the timing of cashflows and investments, and/or to reflect cash held for the purposes of collateral allocations associated with certain types of derivatives. Country and sector allocations show specific exposures to countries / sectors representing at least 1% of total fund asset. As such, the values displayed may not total 100%.\\n\\n72636-v2025328\", \"## SERIES B • CDN$ • ISC • AS AT JULY 09, 2025\\n\\n# Fidelity All-American Equity ETF Fund\\n\\nThe information provided in this listing and top ten holdings or top five issuers may differ from a fund's holdings in its annual report and as follows, where applicable:\\n\\nFor the annual report, a fund's investments include trades executed through the end of the last business day of the period. This listing and the ten holdings or five issuers include trades executed through the end of the previous business day.\\n\\nThe list includes any investment in derivative instruments, and excludes the value of any cash collateral held for securities on loan and a fund's net other assets. There, the holdings as a percent of fund net assets may not total to 100%.\\n\\nThe top ten holdings or top five issuers for fixed-income and money market funds are presented to illustrate examples of the securities that the fund has bought and the diversity of the areas in which the fund may invest, may not be the representative of the fund's current or future investments, and may change at any time. The top ten holdings and top five issuers do not include cash, cash equivalents, money market instruments, options, interest rate swaps, fixed-income total return swaps and/or futures contracts. Depositary receipts, credit default swaps and equity total return swaps are normally combined with the underlying security.\\n\\nThe listing of portfolio holdings provides information on a fund's investments as at the date indicated. The information provided in this listing may differ from a fund's holdings in its annual report.\\n\\nCommissions, fees and expenses may be associated with investment funds. Read a fund's prospectus or offering memorandum and speak to an advisor before investing. Funds are not guaranteed, their values change frequently and investors may experience a gain or loss. Past performance may not be repeated.\\n\\nRead our privacy policy. By using or logging in to this website, you consent to the use of cookies as described in our privacy policy.\\n\\nThis site is for persons in Canada only. Mutual funds and ETFs sponsored by Fidelity Investments Canada ULC are only qualified for sale in the provinces and territories of Canada.\\n\\n[Figure: Fidelity Investments logo]\\n\\n72636-v2025328\"] text=\"SERIES B • CDN$ • ISC • AS AT JULY 09, 2025\\n\\n## FUND CODE\\nISC\\n7882\\n\\n# Fidelity All-American Equity ETF Fund\\n\\n## KEY FACTS\\nSeries Inception **June 03, 2025**\\nNAV **$10.25**\\nBenchmark **S&P 500 Index**\\nFund aggregate assets\\n(all series) as at\\nDistributions **Annually**\\nAlso available through **ETF CDN$**\\n\\n### Risk classification\\n[Figure: Risk classification bar showing categories: Low, Low to Medium, Medium, Medium to High, High]\\n\\n## PORTFOLIO MANAGERS\\n\\nManaged by Geode - Geode Capital Management is a global systematic investment manager. With a robust infrastructure and talented investment professionals, Geode offers clients the scale of a large asset management firm, with the benefits of a versatile investment platform - flexibility and customization. Geode is able to offer institutional investors the essential building blocks for today's changing investment landscape.\\n\\nAs at March 31, 2025, Geode manages over $1.5 trillion.\\n\\nStart date June 3, 2025\\n\\n[Figure: Geode Capital Management logo]\\n\\n## Why invest in this fund?\\n\\n*   A core portfolio holding offering the potential for capital appreciation.\\n*   Focused regional equity exposure.\\n*   Annual portfolio rebalancing.\\n*   Potential to outperform traditional passive strategies.\\n\\n## Price\\n\\n### Historical prices from June 3, 2025 to July 9, 2025\\n\\n|             |           |\\n| :---------- | :-------- |\\n| Start price | $10.0000  |\\n| End price   | $10.2524  |\\n| Total distributions | $0.0000   |\\n\\n[Figure: Line graph showing historical price movement from June 3, 2025, to July 9, 2025, with price points at $9.80, $9.90, $10.00, $10.10, $10.20, $10.30. Key dates on X-axis: 9. Jun, 16. Jun, 23. Jun, 30. Jun, 7. Jul. The graph highlights $10.2524 around July 7.]\\n\\n72636-v2025328SERIES B • CDN$ • ISC • AS AT JULY 09, 2025\\n\\n# Fidelity All-American Equity ETF Fund\\n\\n## Allocation\\n\\n### As at May 31, 2025\\n\\n| Allocation to Underlying Funds (%) |                |\\n| :--------------------------------- | :------------- |\\n| 100.0%                             | U.S. Equities |\\n| 0.0%                               | Money Market/Cash Other Assets |\\n\\n### Geographical Mix\\n\\n[Figure: Geographical Mix pie chart]\\n\\n- 98.5% United States\\n- 1.6% Ireland\\n- 0.0% Other Countries\\n- 0.0% Cash & Net Other Assets\\n\\n### Sector Mix\\n\\n[Figure: Sector Mix pie chart]\\n\\n- 26.4% Information Technology\\n- 15.8% Industrials\\n- 14.4% Financials\\n- 7.3% Consumer Disc.\\n- 6.9% Real Estate\\n- 6.4% Consumer Staples\\n- 6.3% Health Care\\n- 4.8% Materials\\n- 4.7% Utilities\\n- 4.2% Energy\\n- 2.5% Communication Services\\n- 0.2% Multi Sector\\n\\n## Footnotes and disclosures\\n\\n* The management fees directly payable by the Fidelity All-Equity ETFs are nil. The Fidelity All-Equity ETFs invest in other underlying Fidelity ETFs that charge a direct management fee and/or administration fee. Based on the weightings of underlying Fidelity ETFs, it is expected that the effective indirect management fee for Fidelity All-Canadian Equity ETF will be approximately 0.35%, Fidelity All-American Equity ETF 0.35%, and Fidelity All-International Equity ETF 0.45%. The actual effective, indirect fees may be higher or lower than the estimated rates shown above based on the performance of the underlying Fidelity ETFs, rebalancing events initiated by the portfolio management team of the Fidelity All-Equity ETFs and changes to the strategic allocation, which may include the removal or addition of underlying Fidelity ETFs. Actual indirect fees will be reflected in the MER (in addition to sales tax, fixed admin fees, commissions, portfolio transaction costs and other expenses, as applicable, of each of the Fidelity All-Equity ETFs and mutual fund versions), posted semi-annually.\\n\\nCommissions, trailing commissions, management fees, brokerage fees and expenses may be associated with investments in mutual funds and ETFs. Please read the mutual fund or ETF's prospectus, which contains detailed investment information, before investing. The indicated rates of return are historical annual compounded total returns for the period indicated, including changes in unit value and reinvestment distributions, and do not take into account any charges or income taxes payable by any security holder that would have reduced returns. Mutual funds and ETFs are not guaranteed. Their values change frequently. Past performance may not be repeated.\\n\\nA return of capital reduces an investor's adjusted cost base. Capital gains taxes are deferred until units are sold or until the ACB goes below zero. Investors should not confuse this cash flow distribution with a fund's rate of return or yield. While investors in Fidelity's tax-efficient series (Tax-Smart CashFlow) will be able to defer some personal capital gains, they must still pay tax on capital gains distributions that arise from the sale of individual holdings by fund managers, and on interest and dividend distributions. Tax-Smart CashFlow will also pay a year-end distribution that must be reinvested in additional securities of the applicable fund. The monthly cash-flow distributions on Tax-Smart CashFlow are not guaranteed, will be adjusted from time to time and may include income.\\n\\nThe charting tool is for illustrative purposes only and it does not provide financial, legal, tax or investment advice. Particular investment, tax, or trading strategies should be evaluated relative to each individual's objectives and risk tolerance.\\n\\nMonth-end asset mixes may total greater than / less than 100% due to differences in the timing of cashflows and investments, and/or to reflect cash held for the purposes of collateral allocations associated with certain types of derivatives. Country and sector allocations show specific exposures to countries / sectors representing at least 1% of total fund asset. As such, the values displayed may not total 100%.\\n\\n72636-v2025328## SERIES B • CDN$ • ISC • AS AT JULY 09, 2025\\n\\n# Fidelity All-American Equity ETF Fund\\n\\nThe information provided in this listing and top ten holdings or top five issuers may differ from a fund's holdings in its annual report and as follows, where applicable:\\n\\nFor the annual report, a fund's investments include trades executed through the end of the last business day of the period. This listing and the ten holdings or five issuers include trades executed through the end of the previous business day.\\n\\nThe list includes any investment in derivative instruments, and excludes the value of any cash collateral held for securities on loan and a fund's net other assets. There, the holdings as a percent of fund net assets may not total to 100%.\\n\\nThe top ten holdings or top five issuers for fixed-income and money market funds are presented to illustrate examples of the securities that the fund has bought and the diversity of the areas in which the fund may invest, may not be the representative of the fund's current or future investments, and may change at any time. The top ten holdings and top five issuers do not include cash, cash equivalents, money market instruments, options, interest rate swaps, fixed-income total return swaps and/or futures contracts. Depositary receipts, credit default swaps and equity total return swaps are normally combined with the underlying security.\\n\\nThe listing of portfolio holdings provides information on a fund's investments as at the date indicated. The information provided in this listing may differ from a fund's holdings in its annual report.\\n\\nCommissions, fees and expenses may be associated with investment funds. Read a fund's prospectus or offering memorandum and speak to an advisor before investing. Funds are not guaranteed, their values change frequently and investors may experience a gain or loss. Past performance may not be repeated.\\n\\nRead our privacy policy. By using or logging in to this website, you consent to the use of cookies as described in our privacy policy.\\n\\nThis site is for persons in Canada only. Mutual funds and ETFs sponsored by Fidelity Investments Canada ULC are only qualified for sale in the provinces and territories of Canada.\\n\\n[Figure: Fidelity Investments logo]\\n\\n72636-v2025328\"\n"
     ]
    }
   ],
   "source": [
    "# Parse a Document with retab\n",
    "from dotenv import load_dotenv\n",
    "from retab import Retab\n",
    "\n",
    "load_dotenv() # You need to create a .env file containing your RETAB_API_KEY=sk_retab_***\n",
    "\n",
    "client = Retab()\n",
    "\n",
    "# Parse the document\n",
    "response = client.documents.parse(\n",
    "    document=\"../assets/docs/ETF-facts.pdf\",\n",
    "    model=\"gemini-2.5-flash\",\n",
    "    table_parsing_format=\"markdown\",  # Better for RAG\n",
    "    image_resolution_dpi=150          # Higher quality for technical docs\n",
    ")\n",
    "\n",
    "print(response)"
   ]
  },
  {
   "cell_type": "markdown",
   "id": "2c4955a0",
   "metadata": {},
   "source": [
    "In this example, we will use **Chonkie's Sentence Chunker**, that splits text into chunks while preserving complete sentences, ensuring that each chunk maintains proper sentence boundaries and context.\n",
    "\n",
    "You can find more information [here](https://docs.chonkie.ai/python-sdk/chunkers/sentence-chunker).\n",
    "​\n"
   ]
  },
  {
   "cell_type": "code",
   "execution_count": 3,
   "id": "10c65810",
   "metadata": {},
   "outputs": [
    {
     "name": "stdout",
     "output_type": "stream",
     "text": [
      "Created 6 chunks from 3 pages\n"
     ]
    },
    {
     "name": "stderr",
     "output_type": "stream",
     "text": [
      "/Applications/miniconda3/envs/cube/lib/python3.13/site-packages/chonkie/tokenizer.py:286: UserWarning: 'tokenizers' library not found. Falling back to 'tiktoken'.\n",
      "  warnings.warn(\"'tokenizers' library not found. Falling back to 'tiktoken'.\")\n"
     ]
    }
   ],
   "source": [
    "# Initialize chunker for RAG\n",
    "from chonkie import SentenceChunker\n",
    "\n",
    "chunker = SentenceChunker(\n",
    "    tokenizer_or_token_counter=\"gpt2\",\n",
    "    chunk_size=512,\n",
    "    chunk_overlap=128,\n",
    "    min_sentences_per_chunk=1\n",
    ")\n",
    "\n",
    "# Process each page and create chunks\n",
    "all_chunks = []\n",
    "for page_num, page_text in enumerate(response.pages, 1):\n",
    "    chunks = list(chunker(page_text))\n",
    "    \n",
    "    for chunk_idx, chunk in enumerate(chunks):\n",
    "        chunk_data = {\n",
    "            \"page\": page_num,\n",
    "            \"chunk_id\": f\"page_{page_num}_chunk_{chunk_idx}\",\n",
    "            \"text\": str(chunk),\n",
    "            \"document\": response.document.filename\n",
    "        }\n",
    "        all_chunks.append(chunk_data)\n",
    "\n",
    "print(f\"Created {len(all_chunks)} chunks from {response.usage.page_count} pages\")"
   ]
  },
  {
   "cell_type": "code",
   "execution_count": null,
   "id": "f1e171bb",
   "metadata": {},
   "outputs": [],
   "source": []
  }
 ],
 "metadata": {
  "kernelspec": {
   "display_name": "cube",
   "language": "python",
   "name": "python3"
  },
  "language_info": {
   "codemirror_mode": {
    "name": "ipython",
    "version": 3
   },
   "file_extension": ".py",
   "mimetype": "text/x-python",
   "name": "python",
   "nbconvert_exporter": "python",
   "pygments_lexer": "ipython3",
   "version": "3.13.2"
  }
 },
 "nbformat": 4,
 "nbformat_minor": 5
}
