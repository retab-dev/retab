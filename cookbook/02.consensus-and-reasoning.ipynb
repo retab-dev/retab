{
 "cells": [
  {
   "cell_type": "code",
   "execution_count": 1,
   "id": "3a581dba",
   "metadata": {},
   "outputs": [],
   "source": [
    "# %pip install retab"
   ]
  },
  {
   "cell_type": "code",
   "execution_count": 1,
   "id": "03fc872c",
   "metadata": {},
   "outputs": [],
   "source": [
    "# Draft an Initial Schema—we're using here the same schema as in the previous notebook\n",
    "\n",
    "from pydantic import BaseModel\n",
    "\n",
    "class Invoice(BaseModel):\n",
    "    date: str\n",
    "    invoice_number: str\n",
    "    total: str\n",
    "    status: str\n",
    "    customer: str\n",
    "    customer_address: str\n",
    "    customer_email: str\n",
    "    customer_phone: str\n",
    "    customer_website: str"
   ]
  },
  {
   "cell_type": "markdown",
   "id": "47ba414d",
   "metadata": {},
   "source": [
    "## **CONSENSUS**"
   ]
  },
  {
   "cell_type": "markdown",
   "id": "22558520",
   "metadata": {},
   "source": [
    "The `Consensus` parameter provides a simple way to reduce variability in LLMs' outputs and increase structured data's **QUALITY**, where the user reaches accuracy scores above 98%.\n",
    "\n",
    "We wanted to provide a quick, type‑safe wrapper around OpenAI Chat Completions and Responses endpoints to provide you with automatic consensus reconciliation.\n",
    "\n",
    "**For more information, check our [Documentation about k-LLMs Consensus](https://docs.retab.com/core-concepts/k-LLMs_Consensus) (see also our [k-LLMs library](https://www.retab.com/k-llms)).**"
   ]
  },
  {
   "cell_type": "code",
   "execution_count": 4,
   "id": "c0c58683",
   "metadata": {},
   "outputs": [
    {
     "name": "stdout",
     "output_type": "stream",
     "text": [
      "{\n",
      "  \"date\": 1.0,\n",
      "  \"invoice_number\": 1.0,\n",
      "  \"total\": 1.0,\n",
      "  \"status\": 1.0,\n",
      "  \"customer\": 1.0,\n",
      "  \"customer_address\": 1.0,\n",
      "  \"customer_email\": 1.0,\n",
      "  \"customer_phone\": 1.0,\n",
      "  \"customer_website\": 1.0\n",
      "}\n"
     ]
    }
   ],
   "source": [
    "# Run the first extraction with Consensus, using the Schema that is not optimzed yet\n",
    "\n",
    "from dotenv import load_dotenv\n",
    "from retab import Retab\n",
    "import json\n",
    "\n",
    "load_dotenv() # We advise you to create a .env file containing your RETAB_API_KEY=sk_retab_***\n",
    "\n",
    "client = Retab()\n",
    "\n",
    "response = client.documents.extract(\n",
    "    documents=[\"../assets/docs/invoice.jpeg\"],\n",
    "    model=\"gemini-2.5-flash\",          # or any model your plan supports\n",
    "    json_schema=Invoice.model_json_schema(),\n",
    "    modality=\"native\", \n",
    "    temperature=0.5,\n",
    "    n_consensus=5                 # Consensus parameter      \n",
    ")\n",
    "\n",
    "print(json.dumps(response.likelihoods, indent=2))"
   ]
  },
  {
   "cell_type": "markdown",
   "id": "3865a1be",
   "metadata": {},
   "source": [
    "Enabling `Consensus` gives the user confidentiality scores on the extraction fields.\n",
    "\n",
    "We can see here that this parameter provides 2 advantages:\n",
    "\n",
    "- running k-LLMs consensus makes extractions more precise (by aggregating the results of a \"*k-LLMs' concil*\").\n",
    "\n",
    "- running k-LLMs consensus **helps the user to spot low confidence fields, making it easier to improve the schema & prompt to get higher accuracy**.\n",
    "\n",
    "**For more informaiton on `X-ReasoningPrompt`, check our [Documentation here](https://docs.retab.com/core-concepts/Reasoning).**"
   ]
  },
  {
   "cell_type": "markdown",
   "id": "12e8934b",
   "metadata": {},
   "source": [
    "## **REASONING**"
   ]
  },
  {
   "cell_type": "code",
   "execution_count": null,
   "id": "fd81eabe",
   "metadata": {},
   "outputs": [
    {
     "name": "stdout",
     "output_type": "stream",
     "text": [
      "{\n",
      "  \"date\": 1.0,\n",
      "  \"invoice_number\": 1.0,\n",
      "  \"total\": 1.0,\n",
      "  \"status\": 1.0,\n",
      "  \"customer\": 0.6,\n",
      "  \"customer_address\": 1.0,\n",
      "  \"customer_email\": 1.0,\n",
      "  \"customer_phone\": 1.0,\n",
      "  \"customer_website\": 0.6\n",
      "}\n"
     ]
    }
   ],
   "source": [
    "# As the \"status\" field reached a confidence score below 90% in the previous extraction, \n",
    "# we will add Reasoning and see what performance we can achieve with this simple add. \n",
    "\n",
    "from pydantic import Field\n",
    "\n",
    "class Invoice_with_reasoning(BaseModel):\n",
    "    date: str\n",
    "    invoice_number: str\n",
    "    total: str\n",
    "    \n",
    "    status: str = Field(...,\n",
    "        description=\"Invoice Status, either Blanck, Paid or Unpaid.\",\n",
    "        \n",
    "        # Reasoning Prompt here\n",
    "        json_schema_extra={ \n",
    "            \"X-ReasoningPrompt\": \"If the Status is not specified, make it explicit that it is blank. Otherwise, use the provided status making sure it is either Paid or Unpaid.\",\n",
    "        }\n",
    "    )\n",
    "\n",
    "    customer: str\n",
    "    customer_address: str\n",
    "    customer_email: str\n",
    "    customer_phone: str\n",
    "    customer_website: str\n",
    "\n",
    "\n",
    "\n",
    "response = client.documents.extract(\n",
    "    documents=[\"../assets/docs/invoice.jpeg\"],\n",
    "    model=\"gemini-2.5-flash\",          \n",
    "    json_schema=Invoice_with_reasoning.model_json_schema(),\n",
    "    temperature=0.5,              \n",
    "    modality=\"native\",      \n",
    "    n_consensus=5                 \n",
    ")\n",
    "\n",
    "print(json.dumps(response.likelihoods, indent=2))"
   ]
  },
  {
   "cell_type": "markdown",
   "id": "0e36d9cf",
   "metadata": {},
   "source": [
    "We can see here that **adding `Reasoning` on the \"status\" Field helped achieve 100% confidence, compared to 80% before.**"
   ]
  },
  {
   "cell_type": "markdown",
   "id": "ca1c641a",
   "metadata": {},
   "source": [
    "# **ANNEXES**"
   ]
  },
  {
   "cell_type": "code",
   "execution_count": null,
   "id": "d1ad19e8",
   "metadata": {},
   "outputs": [
    {
     "name": "stdout",
     "output_type": "stream",
     "text": [
      "{\n",
      "  \"date\": 1.0,\n",
      "  \"invoice_number\": 1.0,\n",
      "  \"total\": 1.0,\n",
      "  \"status\": 0.8,\n",
      "  \"customer\": 0.6,\n",
      "  \"customer_address\": 1.0,\n",
      "  \"customer_email\": 1.0,\n",
      "  \"customer_phone\": 1.0,\n",
      "  \"customer_website\": 1.0\n",
      "}\n"
     ]
    }
   ],
   "source": [
    "# We could have updated the Schema and iterated to see whether the extraction precision improved.\n",
    "# Adding Reasoning helps gain time during this iteration phase.\n",
    "\n",
    "from pydantic import BaseModel, Field\n",
    "from enum import Enum\n",
    "\n",
    "class StatusEnum(str, Enum):\n",
    "    Blank  = \"Blank\"\n",
    "    Paid   = \"Paid\"\n",
    "    Unpaid = \"Unpaid\"\n",
    "\n",
    "class Invoice_v2(BaseModel):\n",
    "    date: str\n",
    "    invoice_number: str\n",
    "    total: str\n",
    "\n",
    "    # Improvement on this field\n",
    "    status: StatusEnum = Field(\n",
    "        default=StatusEnum.Blank,\n",
    "        description=\"Invoice status; Blank when no status appears on the document.\" # We add a description to gain in precision\n",
    "    )\n",
    "\n",
    "    customer: str\n",
    "    customer_address: str\n",
    "    customer_email: str\n",
    "    customer_phone: str\n",
    "    customer_website: str\n",
    "\n",
    "    # Evaluate the precision of the new Schema\n",
    "response = client.documents.extract(\n",
    "    documents=[\"../assets/docs/invoice.jpeg\"],\n",
    "    model=\"gemini-2.5-flash\",          # or any model your plan supports\n",
    "    json_schema=Invoice_v2.model_json_schema(),\n",
    "    temperature=0.5,              # you need to add temperature\n",
    "    modality=\"native\",\n",
    "    n_consensus=5\n",
    ")\n",
    "\n",
    "print(json.dumps(response.likelihoods, indent=2))"
   ]
  },
  {
   "cell_type": "markdown",
   "id": "a2f6853f",
   "metadata": {},
   "source": [
    "We improve the likelihood on the `status` field from 0.6 to 1.0!"
   ]
  },
  {
   "cell_type": "code",
   "execution_count": null,
   "id": "dad5c3d3",
   "metadata": {},
   "outputs": [],
   "source": []
  }
 ],
 "metadata": {
  "kernelspec": {
   "display_name": "Python 3",
   "language": "python",
   "name": "python3"
  },
  "language_info": {
   "codemirror_mode": {
    "name": "ipython",
    "version": 3
   },
   "file_extension": ".py",
   "mimetype": "text/x-python",
   "name": "python",
   "nbconvert_exporter": "python",
   "pygments_lexer": "ipython3",
   "version": "3.12.7"
  }
 },
 "nbformat": 4,
 "nbformat_minor": 5
}
