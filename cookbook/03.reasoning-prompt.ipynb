{
 "cells": [
  {
   "cell_type": "code",
   "execution_count": 1,
   "id": "1265b914",
   "metadata": {},
   "outputs": [],
   "source": [
    "# %pip install retab"
   ]
  },
  {
   "cell_type": "markdown",
   "id": "3865096e",
   "metadata": {},
   "source": [
    "`X-ReasoningPrompt` generates reasoning fields alongside data fields, helping LLMs provide step-by-step justification for extracted values in complex scenarios.\n",
    "\n",
    "**For more information on Reasoning, check our [documentation](https://docs.retab.com/core-concepts/Reasoning).**"
   ]
  },
  {
   "cell_type": "markdown",
   "id": "a3b28c8c",
   "metadata": {},
   "source": [
    "## Example 1"
   ]
  },
  {
   "cell_type": "code",
   "execution_count": 4,
   "id": "5a5f040c",
   "metadata": {},
   "outputs": [
    {
     "name": "stdout",
     "output_type": "stream",
     "text": [
      "{\n",
      "  \"date\": 1.0,\n",
      "  \"invoice_number\": 1.0,\n",
      "  \"total\": 0.6,\n",
      "  \"status\": 0.4,\n",
      "  \"customer\": 0.8,\n",
      "  \"customer_address\": 0.9381,\n",
      "  \"customer_email\": 1.0,\n",
      "  \"customer_phone\": 1.0,\n",
      "  \"customer_website\": 1.0\n",
      "}\n"
     ]
    }
   ],
   "source": [
    "# We re-use the example from 01.build-your-schema.ipynb\n",
    "# Draft an Initial Schema\n",
    "from pydantic import BaseModel\n",
    "\n",
    "class Invoice(BaseModel):\n",
    "    date: str\n",
    "    invoice_number: str\n",
    "    total: str\n",
    "    status: str\n",
    "    customer: str\n",
    "    customer_address: str\n",
    "    customer_email: str\n",
    "    customer_phone: str\n",
    "    customer_website: str\n",
    "\n",
    "# Execute with Consensus\n",
    "\n",
    "from dotenv import load_dotenv\n",
    "from retab import Retab\n",
    "import json\n",
    "\n",
    "load_dotenv() # You need to create a .env file containing your RETAB_API_KEY=sk_retab_***\n",
    "\n",
    "client = Retab()\n",
    "\n",
    "response = client.documents.extract(\n",
    "    documents=[\"../assets/docs/invoice.jpeg\"],\n",
    "    model=\"gemini-2.5-flash\",          # or any model your plan supports\n",
    "    json_schema=Invoice.model_json_schema(),\n",
    "    modality=\"native\",     \n",
    "    temperature=0.5,\n",
    "    n_consensus=5\n",
    ")\n",
    "\n",
    "print(json.dumps(response.likelihoods, indent=2))"
   ]
  },
  {
   "cell_type": "code",
   "execution_count": null,
   "id": "90ca6456",
   "metadata": {},
   "outputs": [],
   "source": [
    "# Update the Schema adding a reasoning field\n",
    "from pydantic import Field\n",
    "\n",
    "# You can define the custom annotations in the `pydantic.Field` class using the `json_schema_extra` field.\n",
    "\n",
    "class Invoice_with_Reasoning(BaseModel):\n",
    "    date: str\n",
    "    invoice_number: str\n",
    "    total: str\n",
    "\n",
    "    status: str = Field(...,\n",
    "        description=\"Invoice Status, either Blanck, Paid or Unpaid.\",\n",
    "        # Reasoning Prompt\n",
    "        json_schema_extra={ \n",
    "            \"X-ReasoningPrompt\": \"If the Status is not specified, make it explicit that it is blank. Otherwise, use the provided status making sure it is either Paid or Unpaid.\",\n",
    "        }\n",
    "    )\n",
    "\n",
    "    customer: str\n",
    "    customer_address: str\n",
    "    customer_email: str\n",
    "    customer_phone: str\n",
    "    customer_website: str\n",
    "\n",
    "    # Evaluate the precision of the new Schema\n",
    "response = client.documents.extract(\n",
    "    documents=[\"../assets/docs/invoice.jpeg\"],\n",
    "    model=\"gemini-2.5-flash\",          # or any model your plan supports\n",
    "    json_schema=Invoice_with_Reasoning.model_json_schema(),\n",
    "    modality=\"native\",    \n",
    "    temperature=0.5,\n",
    "    n_consensus=5\n",
    ")\n",
    "\n",
    "print(json.dumps(response.likelihoods, indent=2))"
   ]
  },
  {
   "cell_type": "markdown",
   "id": "63a6224a",
   "metadata": {},
   "source": [
    "Adding the `Reasoning prompt` improves the likelihood on the `status` field from 0.6 to 1.0, without having to modify / give more constraint to the schema!"
   ]
  },
  {
   "cell_type": "markdown",
   "id": "3c4e088a",
   "metadata": {},
   "source": [
    "## Example 2"
   ]
  },
  {
   "cell_type": "code",
   "execution_count": null,
   "id": "2668cb68",
   "metadata": {},
   "outputs": [
    {
     "name": "stdout",
     "output_type": "stream",
     "text": [
      "{\n",
      "  \"date\": 1.0,\n",
      "  \"location\": 1.0,\n",
      "  \"temperature_Fahrenheit\": 1.0,\n",
      "  \"humidity\": 1.0,\n",
      "  \"conditions\": 1.0\n",
      "}\n",
      "{\"date\": \"2024-01-15\", \"location\": \"New York\", \"conditions\": \"Partly Cloudy\", \"temperature_Fahrenheit\": 72.5, \"humidity\": 65}\n"
     ]
    }
   ],
   "source": [
    "from datetime import date\n",
    "\n",
    "class TemperatureReport(BaseModel):\n",
    "    date: date\n",
    "    location: str\n",
    "    temperature_Fahrenheit: float\n",
    "    humidity: float\n",
    "    conditions: str\n",
    "\n",
    "response = client.documents.extract(\n",
    "    documents=[\"../assets/code/temperature-report.md\"],\n",
    "    model=\"gemini-2.5-flash\",          \n",
    "    json_schema=TemperatureReport.model_json_schema(),\n",
    "    modality=\"native\",\n",
    "    temperature=0.5,\n",
    "    n_consensus=5\n",
    ")\n",
    "\n",
    "print(json.dumps(response.likelihoods, indent=2))\n",
    "print(response.choices[0].message.content)"
   ]
  },
  {
   "cell_type": "markdown",
   "id": "634c1a79",
   "metadata": {},
   "source": [
    "Without reasoning, the LLM has incorrectly used 22.5°F instead of converting from Celsius, this with a likelihood of 1.0."
   ]
  },
  {
   "cell_type": "code",
   "execution_count": null,
   "id": "88ca08f5",
   "metadata": {},
   "outputs": [
    {
     "name": "stdout",
     "output_type": "stream",
     "text": [
      "{\n",
      "  \"date\": 1.0,\n",
      "  \"location\": 1.0,\n",
      "  \"temperature\": 1.0,\n",
      "  \"humidity\": 1.0,\n",
      "  \"conditions\": 1.0\n",
      "}\n",
      "{\"date\": \"2024-01-15\", \"location\": \"New York\", \"conditions\": \"Partly Cloudy\", \"temperature\": 72.5, \"humidity\": 65}\n"
     ]
    }
   ],
   "source": [
    "# Update the Schema adding a reasoning field\n",
    "\n",
    "class TemperatureReport_with_Reasoning(BaseModel):\n",
    "    date: date\n",
    "    location: str\n",
    "    temperature: float = Field(...,\n",
    "        description=\"temperature in Fahrenheit\",\n",
    "        json_schema_extra={\n",
    "            \"X-ReasoningPrompt\": \"If the temperature is given in Celsius, make the explicit computation to convert it to Fahrenheit. If the temperature is given in Fahrenheit, leave it as is.\",\n",
    "        }\n",
    "    )\n",
    "    humidity: float\n",
    "    conditions: str\n",
    "\n",
    "response = client.documents.extract(\n",
    "    documents=[\"../assets/code/temperature-report.md\"],\n",
    "    model=\"gemini-2.5-flash\",          \n",
    "    json_schema=TemperatureReport_with_Reasoning.model_json_schema(),\n",
    "    modality=\"native\",     \n",
    "    temperature=0.5,\n",
    "    n_consensus=5\n",
    ")\n",
    "\n",
    "print(json.dumps(response.likelihoods, indent=2))\n",
    "print(response.choices[0].message.content)"
   ]
  },
  {
   "cell_type": "markdown",
   "id": "fb134f90",
   "metadata": {},
   "source": [
    "With reasoning, you can see that the “reasoning___” fields help the LLM show its work while the final output follows your schema structure."
   ]
  },
  {
   "cell_type": "markdown",
   "id": "87918819",
   "metadata": {},
   "source": []
  }
 ],
 "metadata": {
  "kernelspec": {
   "display_name": "Python 3",
   "language": "python",
   "name": "python3"
  },
  "language_info": {
   "codemirror_mode": {
    "name": "ipython",
    "version": 3
   },
   "file_extension": ".py",
   "mimetype": "text/x-python",
   "name": "python",
   "nbconvert_exporter": "python",
   "pygments_lexer": "ipython3",
   "version": "3.12.7"
  }
 },
 "nbformat": 4,
 "nbformat_minor": 5
}
