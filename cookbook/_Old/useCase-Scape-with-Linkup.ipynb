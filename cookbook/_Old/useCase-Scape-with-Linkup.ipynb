{
 "cells": [
  {
   "cell_type": "markdown",
   "id": "82fb058d",
   "metadata": {},
   "source": [
    "# **SCRAPING USING LINKUP** & **RETAB**"
   ]
  },
  {
   "cell_type": "markdown",
   "id": "6efd5dcb",
   "metadata": {},
   "source": [
    "We show you here how to scrape and structure **the latest Quarterly PR issued by NVIDIA** (Investor Relations page [here](https://investor.nvidia.com/financial-info/financial-reports/)) using:\n",
    "\n",
    "- **[Linkup `Search` Endpoint](https://docs.linkup.so/pages/documentation/api-reference/endpoint/post-search)** to get the clean Markdow of the latest NVIDIA's PR.\n",
    "\n",
    "- **[Retab](https://www.retab.com/)** to define a `schema` and `prompt` and generate precise structured output without LLMs' hallucinations from Firecrawl's clean Markdown. \n",
    "\n",
    "*Retab's platform enables to automatically generale - iterate - deploy our schemas & prompts into production. See the [Documentation here](https://docs.retab.com/overview/introduction)*\n",
    "\n",
    "Built with 🩷 by retab."
   ]
  },
  {
   "cell_type": "markdown",
   "id": "c8e19576",
   "metadata": {},
   "source": [
    "### **INITIALIZATION**"
   ]
  },
  {
   "cell_type": "markdown",
   "id": "ea163863",
   "metadata": {},
   "source": [
    "Initiate your **API Keys** on **[Linkup](https://app.linkup.so/api-keys)** and **[Retab](https://www.retab.com/)** and save them in a `.env` file.\n",
    "\n",
    "You should have:\n",
    "```\n",
    "LINKUP_API_KEY=***\n",
    "RETAB_API_KEY=sk_retab_***\n"
   ]
  },
  {
   "cell_type": "markdown",
   "id": "3618c383",
   "metadata": {},
   "source": [
    "### **RUN**"
   ]
  },
  {
   "cell_type": "code",
   "execution_count": null,
   "id": "03bec698",
   "metadata": {},
   "outputs": [],
   "source": [
    "# %pip install retab\n",
    "# %pip install linkup-sdk"
   ]
  },
  {
   "cell_type": "code",
   "execution_count": null,
   "id": "bc168423",
   "metadata": {},
   "outputs": [],
   "source": [
    "# GET THE LATEST PRESS RELEASE MARKDOWN WITH LINKUP\n",
    "from dotenv import load_dotenv\n",
    "from linkup import LinkupClient\n",
    "\n",
    "load_dotenv()\n",
    "\n",
    "client = LinkupClient()\n",
    "\n",
    "response = client.search(\n",
    "    query=\"Extract all the information from this PR: https://nvidianews.nvidia.com/news/nvidia-announces-financial-results-for-first-quarter-fiscal-2026\",\n",
    "    depth=\"standard\",\n",
    "    output_type=\"searchResults\",\n",
    "    include_images=True\n",
    ")\n",
    "\n",
    "print(response)"
   ]
  },
  {
   "cell_type": "markdown",
   "id": "68b388a9",
   "metadata": {},
   "source": [
    "You can use [Retab platform](https://www.retab.com/dashboard) to quickly generate a `schema` & `prompt` to extract the information with high accuracy.\n",
    "\n",
    "You configuration is viewed as a unique `project_id` to be referenced below.\n",
    "\n",
    "You can check the [Documentation here](https://docs.retab.com/core-concepts/Projects)."
   ]
  },
  {
   "cell_type": "code",
   "execution_count": null,
   "id": "ad364a5d",
   "metadata": {},
   "outputs": [],
   "source": [
    "# STRUCTURE THE INFORMATION WITH RETAB\n",
    "from retab import Retab\n",
    "\n",
    "client = Retab()\n",
    "\n",
    "with open(\"nvidia_pr_markdown.md\", \"w\") as f:\n",
    "    f.write(response.results[0].content)\n",
    "\n",
    "completion = client.projects.extract(\n",
    "    project_id=\"proj_G-i_K3hBzeRx-8zv787lA\",\n",
    "    iteration_id=\"eval_iter_njoiCHYYhyLWIjC9QMeWj\",\n",
    "    document=\"nvidia_pr_markdown.md\"\n",
    ")\n",
    "\n",
    "print(completion)"
   ]
  },
  {
   "cell_type": "code",
   "execution_count": null,
   "id": "1f8c7b8d",
   "metadata": {},
   "outputs": [],
   "source": [
    "import json, textwrap\n",
    "\n",
    "parsed_data = json.loads(completion.choices[0].message.content)\n",
    "formatted_json = json.dumps(parsed_data, indent=2, ensure_ascii=False)\n",
    "print(textwrap.indent(formatted_json, \"  \"))"
   ]
  },
  {
   "cell_type": "code",
   "execution_count": null,
   "id": "865bce26",
   "metadata": {},
   "outputs": [],
   "source": []
  }
 ],
 "metadata": {
  "kernelspec": {
   "display_name": "cube",
   "language": "python",
   "name": "python3"
  },
  "language_info": {
   "codemirror_mode": {
    "name": "ipython",
    "version": 3
   },
   "file_extension": ".py",
   "mimetype": "text/x-python",
   "name": "python",
   "nbconvert_exporter": "python",
   "pygments_lexer": "ipython3",
   "version": "3.13.2"
  }
 },
 "nbformat": 4,
 "nbformat_minor": 5
}
